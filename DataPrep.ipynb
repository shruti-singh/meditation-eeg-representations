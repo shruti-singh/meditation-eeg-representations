{
 "cells": [
  {
   "cell_type": "code",
   "execution_count": 26,
   "id": "d943c6d0",
   "metadata": {},
   "outputs": [],
   "source": [
    "import numpy as np\n",
    "import scipy.io"
   ]
  },
  {
   "cell_type": "code",
   "execution_count": 27,
   "id": "d2f6e978",
   "metadata": {},
   "outputs": [],
   "source": [
    "debug = True"
   ]
  },
  {
   "cell_type": "markdown",
   "id": "28aa89a0",
   "metadata": {},
   "source": [
    "## Data loading"
   ]
  },
  {
   "cell_type": "code",
   "execution_count": 30,
   "id": "48c21495",
   "metadata": {},
   "outputs": [
    {
     "name": "stdout",
     "output_type": "stream",
     "text": [
      "HT (16, 3)\n",
      "SNY (16, 3)\n",
      "VIP (16, 3)\n",
      "CTR (16, 2)\n"
     ]
    }
   ],
   "source": [
    "dtype_names = [\"HT\", \"SNY\", \"VIP\", \"CTR\"]\n",
    "\n",
    "def load_data(name):\n",
    "    return scipy.io.loadmat('data/Meditation/{}.mat'.format(name))\n",
    "\n",
    "if debug:\n",
    "    for mat in dtype_names:\n",
    "        data_mat = load_data(mat)\n",
    "        #print(ht_mat.keys())\n",
    "        print(mat, data_mat[mat].shape)"
   ]
  },
  {
   "cell_type": "markdown",
   "id": "d59d9a94",
   "metadata": {},
   "source": [
    "16x3 denotes data of 16 subjects for three exercises: breathing, meditation, and mind-wandering/thinking. For the CTR, i.e. control group, the 16x2 data is present only for breathing and meditation."
   ]
  },
  {
   "cell_type": "code",
   "execution_count": 36,
   "id": "5779d14f",
   "metadata": {},
   "outputs": [
    {
     "name": "stdout",
     "output_type": "stream",
     "text": [
      "(64, 131584) (64, 136192) (64, 115328)\n",
      "-40.85619 43.898754 -0.36777097\n"
     ]
    }
   ],
   "source": [
    "def get_data_stats():\n",
    "    print(ht_mat['HT'][0,0].shape, ht_mat['HT'][0,1].shape, ht_mat['HT'][0,2].shape)\n",
    "    print(np.min(ht_mat['HT'][0,0][0]), np.max(ht_mat['HT'][0,0][0]), np.mean(ht_mat['HT'][0,0][0]))\n",
    "    \n",
    "if debug:\n",
    "    get_data_stats()"
   ]
  },
  {
   "cell_type": "code",
   "execution_count": null,
   "id": "b643c1be",
   "metadata": {},
   "outputs": [],
   "source": []
  },
  {
   "cell_type": "markdown",
   "id": "782536de",
   "metadata": {},
   "source": [
    "Use vision transformer instead of nlp transformer?"
   ]
  },
  {
   "cell_type": "code",
   "execution_count": null,
   "id": "09f967ca",
   "metadata": {},
   "outputs": [],
   "source": []
  },
  {
   "cell_type": "code",
   "execution_count": null,
   "id": "a1fa0beb",
   "metadata": {},
   "outputs": [],
   "source": []
  }
 ],
 "metadata": {
  "kernelspec": {
   "display_name": "Python 3",
   "language": "python",
   "name": "python3"
  },
  "language_info": {
   "codemirror_mode": {
    "name": "ipython",
    "version": 3
   },
   "file_extension": ".py",
   "mimetype": "text/x-python",
   "name": "python",
   "nbconvert_exporter": "python",
   "pygments_lexer": "ipython3",
   "version": "3.6.8"
  }
 },
 "nbformat": 4,
 "nbformat_minor": 5
}
