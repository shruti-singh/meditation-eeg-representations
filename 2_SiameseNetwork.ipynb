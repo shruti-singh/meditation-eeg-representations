{
 "cells": [
  {
   "cell_type": "code",
   "execution_count": 1,
   "metadata": {},
   "outputs": [],
   "source": [
    "import torch\n",
    "import torchvision\n",
    "import torch.nn as nn\n",
    "import torch.nn.functional as F\n",
    "import torchvision.utils\n",
    "from torch.autograd import Variable\n",
    "\n",
    "import torchvision.models as models\n",
    "import torchvision.transforms as transforms\n",
    "\n",
    "from torch import optim\n",
    "from torch.utils.tensorboard import SummaryWriter\n",
    "from torch.utils.data import random_split\n",
    "\n",
    "from collections import namedtuple, defaultdict\n",
    "from datetime import datetime\n",
    "from sklearn.metrics import confusion_matrix\n",
    "\n",
    "import glob\n",
    "import matplotlib.pyplot as plt\n",
    "import numpy as np\n",
    "import os\n",
    "import pickle\n",
    "import random\n",
    "import seaborn as sns"
   ]
  },
  {
   "cell_type": "code",
   "execution_count": null,
   "metadata": {},
   "outputs": [],
   "source": []
  },
  {
   "cell_type": "code",
   "execution_count": 2,
   "metadata": {},
   "outputs": [],
   "source": [
    "def load_dataset(user_split = True):\n",
    "    X_train = None\n",
    "    y_train_medid = None\n",
    "    y_train_subjid = None\n",
    "    y_train_ts = None\n",
    "    \n",
    "    X_val = None\n",
    "    y_val_medid = None\n",
    "    y_val_subjid = None\n",
    "    y_val_ts = None\n",
    "    \n",
    "    X_test = None\n",
    "    y_test_medid = None\n",
    "    y_test_subjid = None\n",
    "    y_test_ts = None\n",
    "\n",
    "    # user_split: Determines the creation of train/val/test set. In user_split, test/val users are never seen during the train. time_split randomly splits each user's chunks into train/val/test.\n",
    "    if user_split:\n",
    "        data_file_path = './data/Meditation/user_based_splits_with_timestamp.pkl'\n",
    "    else:\n",
    "        data_file_path = './data/Meditation/time_based_splits_with_timestamp.pkl'\n",
    "\n",
    "    with open(data_file_path, 'rb') as f:\n",
    "        all_data_splits = pickle.load(f)\n",
    "\n",
    "        X_train = all_data_splits['train']['x']\n",
    "        y_train_medid = all_data_splits['train']['y_med']\n",
    "        y_train_subjid = all_data_splits['train']['y_subj']\n",
    "        y_train_ts = all_data_splits['train']['y_ts']\n",
    "\n",
    "        X_val = all_data_splits['val']['x']\n",
    "        y_val_medid = all_data_splits['val']['y_med']\n",
    "        y_val_subjid = all_data_splits['val']['y_subj']\n",
    "        y_val_ts = all_data_splits['val']['y_ts']\n",
    "\n",
    "        X_test = all_data_splits['test']['x']\n",
    "        y_test_medid = all_data_splits['test']['y_med']\n",
    "        y_test_subjid = all_data_splits['test']['y_subj']\n",
    "        y_test_ts = all_data_splits['test']['y_ts']\n",
    "\n",
    "    return X_train, y_train_medid, y_train_subjid, y_train_ts, X_val, y_val_medid, y_val_subjid, y_val_ts, X_test, y_test_medid, y_test_subjid, y_test_ts"
   ]
  },
  {
   "cell_type": "code",
   "execution_count": 3,
   "metadata": {},
   "outputs": [],
   "source": [
    "X_train, y_train_medid, y_train_subjid, y_train_ts, X_val, y_val_medid, y_val_subjid, y_val_ts, \\\n",
    "X_test, y_test_medid, y_test_subjid, y_test_ts = load_dataset(user_split=True)"
   ]
  },
  {
   "cell_type": "code",
   "execution_count": 4,
   "metadata": {},
   "outputs": [
    {
     "data": {
      "text/plain": [
       "(numpy.ndarray, (2057, 64, 2560))"
      ]
     },
     "execution_count": 4,
     "metadata": {},
     "output_type": "execute_result"
    }
   ],
   "source": [
    "type(X_train), X_train.shape"
   ]
  },
  {
   "cell_type": "markdown",
   "metadata": {},
   "source": [
    "Create the triples"
   ]
  },
  {
   "cell_type": "code",
   "execution_count": 5,
   "metadata": {},
   "outputs": [],
   "source": [
    "# def get_pos_neg_pairs():\n",
    "    \n",
    "pos_neg_pairs = []\n",
    "\n",
    "X_train, y_train_medid, y_train_subjid, y_train_ts, X_val, y_val_medid, y_val_subjid, y_val_ts, \\\n",
    "X_test, y_test_medid, y_test_subjid, y_test_ts = load_dataset(user_split=True)\n",
    "\n",
    "# Create appropriate X_train, y_train, X_test, y_test\n",
    "y_train = y_train_medid\n",
    "y_val = y_val_medid\n",
    "y_train = np.concatenate((y_train_medid, y_val_medid), axis=0)\n",
    "\n",
    "y_test = y_test_medid\n",
    "\n",
    "shape0 = X_train.shape[0]\n",
    "X_train = X_train.transpose().reshape(shape0, 64, 40, 64).mean(axis=2)\n",
    "shape0 = X_val.shape[0]\n",
    "X_val = X_val.transpose().reshape(shape0, 64, 40, 64).mean(axis=2)\n",
    "X_train = np.concatenate((X_train, X_val), axis=0)\n",
    "\n",
    "shape0 = X_test.shape[0]\n",
    "X_test = X_test.transpose().reshape(shape0, 64, 40, 64).mean(axis=2)\n",
    "\n",
    "for i, data1 in enumerate(zip(X_train, y_train)):\n",
    "    for j, data2 in enumerate(zip(X_train, y_train)):\n",
    "        if i == j:\n",
    "            continue\n",
    "        else:\n",
    "            if data1[1] == data2[1]:\n",
    "                pos_neg_pairs.append((data1[0], data2[0], 1))\n",
    "            else:\n",
    "                pos_neg_pairs.append((data1[0], data2[0], 0))\n",
    "                    \n",
    "# return pos_neg_pairs"
   ]
  },
  {
   "cell_type": "code",
   "execution_count": 6,
   "metadata": {},
   "outputs": [
    {
     "data": {
      "text/plain": [
       "7222656"
      ]
     },
     "execution_count": 6,
     "metadata": {},
     "output_type": "execute_result"
    }
   ],
   "source": [
    "#pos_neg_pairs = get_pos_neg_pairs()\n",
    "len(pos_neg_pairs)"
   ]
  },
  {
   "cell_type": "code",
   "execution_count": 7,
   "metadata": {},
   "outputs": [
    {
     "name": "stdout",
     "output_type": "stream",
     "text": [
      "10000\n"
     ]
    }
   ],
   "source": [
    "random.shuffle(pos_neg_pairs)\n",
    "pos_neg_pairs = pos_neg_pairs[0:10000]\n",
    "print(len(pos_neg_pairs))"
   ]
  },
  {
   "cell_type": "code",
   "execution_count": null,
   "metadata": {},
   "outputs": [],
   "source": []
  },
  {
   "cell_type": "code",
   "execution_count": null,
   "metadata": {},
   "outputs": [],
   "source": []
  },
  {
   "cell_type": "code",
   "execution_count": 8,
   "metadata": {},
   "outputs": [],
   "source": [
    "class ResidualBlock(nn.Module):\n",
    "    # Residual block\n",
    "    def __init__(self, input_channels, num_channels, use_1x1conv=False, strides=1):\n",
    "        super().__init__()\n",
    "        self.conv1 = nn.Conv2d(input_channels, num_channels, kernel_size=3, padding=1, stride=strides)\n",
    "        self.conv2 = nn.Conv2d(num_channels, num_channels, kernel_size=3, padding=1)\n",
    "        if use_1x1conv:\n",
    "            self.conv3 = nn.Conv2d(input_channels, num_channels, kernel_size=1, stride=strides)\n",
    "        else:\n",
    "            self.conv3 = None\n",
    "        self.bn1 = nn.BatchNorm2d(num_channels)\n",
    "        self.bn2 = nn.BatchNorm2d(num_channels)\n",
    "\n",
    "    def forward(self, X):\n",
    "        Y = F.relu(self.bn1(self.conv1(X)))\n",
    "        Y = self.bn2(self.conv2(Y))\n",
    "        if self.conv3:\n",
    "            X = self.conv3(X)\n",
    "        Y += X\n",
    "        return F.relu(Y)\n",
    "\n",
    "def get_resnet_block(input_channels, num_channels, num_residuals, first_block=False):\n",
    "    blk = []\n",
    "    for i in range(num_residuals):\n",
    "        if i == 0 and not first_block:\n",
    "            blk.append(ResidualBlock(input_channels, num_channels, use_1x1conv=True, strides=2))\n",
    "        else:\n",
    "            blk.append(ResidualBlock(num_channels, num_channels))\n",
    "    return blk\n",
    "\n",
    "\n",
    "class CustomResNet:\n",
    "\n",
    "    def __init__(self, input_size, output_size, hparams=None, model_name='ResNet'):\n",
    "        b2, b3, b4, b5 = CustomResNet.get_blocks()\n",
    "        b1 = nn.Sequential(nn.Conv2d(1, 64, kernel_size=7, stride=2, padding=3), nn.BatchNorm2d(64), nn.ReLU(), nn.MaxPool2d(kernel_size=3, stride=2, padding=1))\n",
    "        self.model = nn.Sequential(b1, b2, b3, b4, b5, nn.AdaptiveAvgPool2d((1,1)), nn.Flatten(), nn.Linear(512, 10))\n",
    "        self.name = model_name\n",
    "        return\n",
    "\n",
    "    def get_model(self):\n",
    "        return self.model\n",
    "\n",
    "    @staticmethod\n",
    "    def get_blocks():\n",
    "        b2 = nn.Sequential(*get_resnet_block(64, 64, 2, first_block=True))\n",
    "        b3 = nn.Sequential(*get_resnet_block(64, 128, 2))\n",
    "        b4 = nn.Sequential(*get_resnet_block(128, 256, 2))\n",
    "        b5 = nn.Sequential(*get_resnet_block(256, 512, 2))\n",
    "        return b2, b3, b4, b5"
   ]
  },
  {
   "cell_type": "code",
   "execution_count": 9,
   "metadata": {},
   "outputs": [],
   "source": [
    "#create the Siamese Neural Network\n",
    "class SiameseNetwork(nn.Module):\n",
    "\n",
    "    def __init__(self):\n",
    "        super(SiameseNetwork, self).__init__()\n",
    "\n",
    "        self.conv = nn.Sequential(\n",
    "            nn.Conv2d(1, 64, 10),  # 64@96*96\n",
    "            nn.ReLU(inplace=True),\n",
    "            nn.MaxPool2d(2),  # 64@48*48\n",
    "            nn.Conv2d(64, 128, 7),\n",
    "            nn.ReLU(),    # 128@42*42\n",
    "            nn.MaxPool2d(2),   # 128@21*21\n",
    "            nn.Conv2d(128, 128, 2),\n",
    "            nn.ReLU(), # 128@18*18\n",
    "            nn.MaxPool2d(2), # 128@9*9\n",
    "            nn.Conv2d(128, 256, 2),\n",
    "            nn.ReLU(),   # 256@6*6\n",
    "        )\n",
    "        self.liner = nn.Sequential(nn.Linear(2304, 4096), nn.Sigmoid())\n",
    "        self.out = nn.Linear(4096, 2)\n",
    "        \n",
    "    def forward_once(self, x):\n",
    "        # This function will be called for both images\n",
    "        # It's output is used to determine the similiarity\n",
    "        output = self.conv(x)\n",
    "        output = output.view(output.size()[0], -1)\n",
    "        output = self.liner(output)\n",
    "        return output\n",
    "\n",
    "    def forward(self, input1, input2):\n",
    "        # In this function we pass in both images and obtain both vectors\n",
    "        # which are returned\n",
    "        output1 = self.forward_once(input1)\n",
    "        output2 = self.forward_once(input2)\n",
    "\n",
    "        return output1, output2\n"
   ]
  },
  {
   "cell_type": "code",
   "execution_count": 10,
   "metadata": {},
   "outputs": [],
   "source": [
    "# Define the Contrastive Loss Function\n",
    "class ContrastiveLoss(torch.nn.Module):\n",
    "    def __init__(self, margin=2.0):\n",
    "        super(ContrastiveLoss, self).__init__()\n",
    "        self.margin = margin\n",
    "\n",
    "    def forward(self, output1, output2, label):\n",
    "        # Calculate the euclidian distance and calculate the contrastive loss\n",
    "        euclidean_distance = F.pairwise_distance(output1, output2, keepdim = True)\n",
    "\n",
    "        loss_contrastive = torch.mean((1-label) * torch.pow(euclidean_distance, 2) + (label) * torch.pow(torch.clamp(self.margin - euclidean_distance, min=0.0), 2))\n",
    "        return loss_contrastive"
   ]
  },
  {
   "cell_type": "code",
   "execution_count": 11,
   "metadata": {},
   "outputs": [],
   "source": [
    "def show_plot(iteration,loss):\n",
    "    plt.plot(iteration,loss)\n",
    "    plt.show()"
   ]
  },
  {
   "cell_type": "code",
   "execution_count": 12,
   "metadata": {},
   "outputs": [],
   "source": [
    "input_size = 64*64\n",
    "output_size = 4\n",
    "\n",
    "net = SiameseNetwork().cuda()\n",
    "criterion = ContrastiveLoss()\n",
    "optimizer = optim.Adam(net.parameters(), lr = 0.001)"
   ]
  },
  {
   "cell_type": "code",
   "execution_count": 13,
   "metadata": {},
   "outputs": [
    {
     "ename": "RuntimeError",
     "evalue": "CUDA out of memory. Tried to allocate 740.00 MiB (GPU 0; 31.75 GiB total capacity; 3.32 GiB already allocated; 564.25 MiB free; 3.97 GiB reserved in total by PyTorch)\nException raised from malloc at /pytorch/c10/cuda/CUDACachingAllocator.cpp:272 (most recent call first):\nframe #0: c10::Error::Error(c10::SourceLocation, std::string) + 0x42 (0x7f2aa09c61e2 in /home/singh_shruti/.local/lib/python3.8/site-packages/torch/lib/libc10.so)\nframe #1: <unknown function> + 0x1e64b (0x7f2aa0c1c64b in /home/singh_shruti/.local/lib/python3.8/site-packages/torch/lib/libc10_cuda.so)\nframe #2: <unknown function> + 0x1f464 (0x7f2aa0c1d464 in /home/singh_shruti/.local/lib/python3.8/site-packages/torch/lib/libc10_cuda.so)\nframe #3: <unknown function> + 0x1faa1 (0x7f2aa0c1daa1 in /home/singh_shruti/.local/lib/python3.8/site-packages/torch/lib/libc10_cuda.so)\nframe #4: at::native::empty_cuda(c10::ArrayRef<long>, c10::TensorOptions const&, c10::optional<c10::MemoryFormat>) + 0x11e (0x7f2a4bd3890e in /home/singh_shruti/.local/lib/python3.8/site-packages/torch/lib/libtorch_cuda.so)\nframe #5: <unknown function> + 0xf33949 (0x7f2a4a172949 in /home/singh_shruti/.local/lib/python3.8/site-packages/torch/lib/libtorch_cuda.so)\nframe #6: <unknown function> + 0xf4d777 (0x7f2a4a18c777 in /home/singh_shruti/.local/lib/python3.8/site-packages/torch/lib/libtorch_cuda.so)\nframe #7: <unknown function> + 0x10e9c7d (0x7f2a84f28c7d in /home/singh_shruti/.local/lib/python3.8/site-packages/torch/lib/libtorch_cpu.so)\nframe #8: <unknown function> + 0x10e9f97 (0x7f2a84f28f97 in /home/singh_shruti/.local/lib/python3.8/site-packages/torch/lib/libtorch_cpu.so)\nframe #9: at::empty(c10::ArrayRef<long>, c10::TensorOptions const&, c10::optional<c10::MemoryFormat>) + 0xfa (0x7f2a85033a1a in /home/singh_shruti/.local/lib/python3.8/site-packages/torch/lib/libtorch_cpu.so)\nframe #10: at::native::empty_like(at::Tensor const&, c10::TensorOptions const&, c10::optional<c10::MemoryFormat>) + 0x49e (0x7f2a84cb1c3e in /home/singh_shruti/.local/lib/python3.8/site-packages/torch/lib/libtorch_cpu.so)\nframe #11: <unknown function> + 0x12880c1 (0x7f2a850c70c1 in /home/singh_shruti/.local/lib/python3.8/site-packages/torch/lib/libtorch_cpu.so)\nframe #12: <unknown function> + 0x12c3863 (0x7f2a85102863 in /home/singh_shruti/.local/lib/python3.8/site-packages/torch/lib/libtorch_cpu.so)\nframe #13: at::empty_like(at::Tensor const&, c10::TensorOptions const&, c10::optional<c10::MemoryFormat>) + 0x101 (0x7f2a85016b31 in /home/singh_shruti/.local/lib/python3.8/site-packages/torch/lib/libtorch_cpu.so)\nframe #14: at::native::zeros_like(at::Tensor const&, c10::TensorOptions const&, c10::optional<c10::MemoryFormat>) + 0x46 (0x7f2a84cab6f6 in /home/singh_shruti/.local/lib/python3.8/site-packages/torch/lib/libtorch_cpu.so)\nframe #15: <unknown function> + 0x128b434 (0x7f2a850ca434 in /home/singh_shruti/.local/lib/python3.8/site-packages/torch/lib/libtorch_cpu.so)\nframe #16: <unknown function> + 0x12c3863 (0x7f2a85102863 in /home/singh_shruti/.local/lib/python3.8/site-packages/torch/lib/libtorch_cpu.so)\nframe #17: at::zeros_like(at::Tensor const&, c10::TensorOptions const&, c10::optional<c10::MemoryFormat>) + 0x101 (0x7f2a85016dd1 in /home/singh_shruti/.local/lib/python3.8/site-packages/torch/lib/libtorch_cpu.so)\nframe #18: at::native::max_pool2d_with_indices_backward_cuda(at::Tensor const&, at::Tensor const&, c10::ArrayRef<long>, c10::ArrayRef<long>, c10::ArrayRef<long>, c10::ArrayRef<long>, bool, at::Tensor const&) + 0x63 (0x7f2a4b0c5983 in /home/singh_shruti/.local/lib/python3.8/site-packages/torch/lib/libtorch_cuda.so)\nframe #19: <unknown function> + 0xf2e801 (0x7f2a4a16d801 in /home/singh_shruti/.local/lib/python3.8/site-packages/torch/lib/libtorch_cuda.so)\nframe #20: <unknown function> + 0xf4fd9f (0x7f2a4a18ed9f in /home/singh_shruti/.local/lib/python3.8/site-packages/torch/lib/libtorch_cuda.so)\nframe #21: at::max_pool2d_with_indices_backward(at::Tensor const&, at::Tensor const&, c10::ArrayRef<long>, c10::ArrayRef<long>, c10::ArrayRef<long>, c10::ArrayRef<long>, bool, at::Tensor const&) + 0x1ac (0x7f2a85025a2c in /home/singh_shruti/.local/lib/python3.8/site-packages/torch/lib/libtorch_cpu.so)\nframe #22: <unknown function> + 0x2ecf64d (0x7f2a86d0e64d in /home/singh_shruti/.local/lib/python3.8/site-packages/torch/lib/libtorch_cpu.so)\nframe #23: <unknown function> + 0x111485f (0x7f2a84f5385f in /home/singh_shruti/.local/lib/python3.8/site-packages/torch/lib/libtorch_cpu.so)\nframe #24: at::max_pool2d_with_indices_backward(at::Tensor const&, at::Tensor const&, c10::ArrayRef<long>, c10::ArrayRef<long>, c10::ArrayRef<long>, c10::ArrayRef<long>, bool, at::Tensor const&) + 0x1ac (0x7f2a85025a2c in /home/singh_shruti/.local/lib/python3.8/site-packages/torch/lib/libtorch_cpu.so)\nframe #25: torch::autograd::generated::MaxPool2DWithIndicesBackward::apply(std::vector<at::Tensor, std::allocator<at::Tensor> >&&) + 0x248 (0x7f2a86b852f8 in /home/singh_shruti/.local/lib/python3.8/site-packages/torch/lib/libtorch_cpu.so)\nframe #26: <unknown function> + 0x3375bb7 (0x7f2a871b4bb7 in /home/singh_shruti/.local/lib/python3.8/site-packages/torch/lib/libtorch_cpu.so)\nframe #27: torch::autograd::Engine::evaluate_function(std::shared_ptr<torch::autograd::GraphTask>&, torch::autograd::Node*, torch::autograd::InputBuffer&, std::shared_ptr<torch::autograd::ReadyQueue> const&) + 0x1400 (0x7f2a871b0400 in /home/singh_shruti/.local/lib/python3.8/site-packages/torch/lib/libtorch_cpu.so)\nframe #28: torch::autograd::Engine::thread_main(std::shared_ptr<torch::autograd::GraphTask> const&) + 0x451 (0x7f2a871b0fa1 in /home/singh_shruti/.local/lib/python3.8/site-packages/torch/lib/libtorch_cpu.so)\nframe #29: torch::autograd::Engine::thread_init(int, std::shared_ptr<torch::autograd::ReadyQueue> const&, bool) + 0x89 (0x7f2a871a9119 in /home/singh_shruti/.local/lib/python3.8/site-packages/torch/lib/libtorch_cpu.so)\nframe #30: torch::autograd::python::PythonEngine::thread_init(int, std::shared_ptr<torch::autograd::ReadyQueue> const&, bool) + 0x4a (0x7f2aa177386a in /home/singh_shruti/.local/lib/python3.8/site-packages/torch/lib/libtorch_python.so)\nframe #31: <unknown function> + 0xc9039 (0x7f2ab440b039 in /home/singh_shruti/anaconda3/envs/compneuro/bin/../lib/libstdc++.so.6)\nframe #32: <unknown function> + 0x8609 (0x7f2ab72c5609 in /lib/x86_64-linux-gnu/libpthread.so.0)\nframe #33: clone + 0x43 (0x7f2ab71ea163 in /lib/x86_64-linux-gnu/libc.so.6)\n",
     "output_type": "error",
     "traceback": [
      "\u001b[0;31m---------------------------------------------------------------------------\u001b[0m",
      "\u001b[0;31mRuntimeError\u001b[0m                              Traceback (most recent call last)",
      "Input \u001b[0;32mIn [13]\u001b[0m, in \u001b[0;36m<cell line: 7>\u001b[0;34m()\u001b[0m\n\u001b[1;32m     42\u001b[0m loss_contrastive \u001b[38;5;241m=\u001b[39m criterion(output1, output2, label)\n\u001b[1;32m     44\u001b[0m \u001b[38;5;66;03m# Calculate the backpropagation\u001b[39;00m\n\u001b[0;32m---> 45\u001b[0m \u001b[43mloss_contrastive\u001b[49m\u001b[38;5;241;43m.\u001b[39;49m\u001b[43mbackward\u001b[49m\u001b[43m(\u001b[49m\u001b[43m)\u001b[49m\n\u001b[1;32m     47\u001b[0m \u001b[38;5;66;03m# Optimize\u001b[39;00m\n\u001b[1;32m     48\u001b[0m optimizer\u001b[38;5;241m.\u001b[39mstep()\n",
      "File \u001b[0;32m~/.local/lib/python3.8/site-packages/torch/tensor.py:185\u001b[0m, in \u001b[0;36mTensor.backward\u001b[0;34m(self, gradient, retain_graph, create_graph)\u001b[0m\n\u001b[1;32m    155\u001b[0m \u001b[38;5;28;01mdef\u001b[39;00m \u001b[38;5;21mbackward\u001b[39m(\u001b[38;5;28mself\u001b[39m, gradient\u001b[38;5;241m=\u001b[39m\u001b[38;5;28;01mNone\u001b[39;00m, retain_graph\u001b[38;5;241m=\u001b[39m\u001b[38;5;28;01mNone\u001b[39;00m, create_graph\u001b[38;5;241m=\u001b[39m\u001b[38;5;28;01mFalse\u001b[39;00m):\n\u001b[1;32m    156\u001b[0m     \u001b[38;5;124mr\u001b[39m\u001b[38;5;124;03m\"\"\"Computes the gradient of current tensor w.r.t. graph leaves.\u001b[39;00m\n\u001b[1;32m    157\u001b[0m \n\u001b[1;32m    158\u001b[0m \u001b[38;5;124;03m    The graph is differentiated using the chain rule. If the tensor is\u001b[39;00m\n\u001b[0;32m   (...)\u001b[0m\n\u001b[1;32m    183\u001b[0m \u001b[38;5;124;03m            products. Defaults to ``False``.\u001b[39;00m\n\u001b[1;32m    184\u001b[0m \u001b[38;5;124;03m    \"\"\"\u001b[39;00m\n\u001b[0;32m--> 185\u001b[0m     \u001b[43mtorch\u001b[49m\u001b[38;5;241;43m.\u001b[39;49m\u001b[43mautograd\u001b[49m\u001b[38;5;241;43m.\u001b[39;49m\u001b[43mbackward\u001b[49m\u001b[43m(\u001b[49m\u001b[38;5;28;43mself\u001b[39;49m\u001b[43m,\u001b[49m\u001b[43m \u001b[49m\u001b[43mgradient\u001b[49m\u001b[43m,\u001b[49m\u001b[43m \u001b[49m\u001b[43mretain_graph\u001b[49m\u001b[43m,\u001b[49m\u001b[43m \u001b[49m\u001b[43mcreate_graph\u001b[49m\u001b[43m)\u001b[49m\n",
      "File \u001b[0;32m~/.local/lib/python3.8/site-packages/torch/autograd/__init__.py:125\u001b[0m, in \u001b[0;36mbackward\u001b[0;34m(tensors, grad_tensors, retain_graph, create_graph, grad_variables)\u001b[0m\n\u001b[1;32m    122\u001b[0m \u001b[38;5;28;01mif\u001b[39;00m retain_graph \u001b[38;5;129;01mis\u001b[39;00m \u001b[38;5;28;01mNone\u001b[39;00m:\n\u001b[1;32m    123\u001b[0m     retain_graph \u001b[38;5;241m=\u001b[39m create_graph\n\u001b[0;32m--> 125\u001b[0m \u001b[43mVariable\u001b[49m\u001b[38;5;241;43m.\u001b[39;49m\u001b[43m_execution_engine\u001b[49m\u001b[38;5;241;43m.\u001b[39;49m\u001b[43mrun_backward\u001b[49m\u001b[43m(\u001b[49m\n\u001b[1;32m    126\u001b[0m \u001b[43m    \u001b[49m\u001b[43mtensors\u001b[49m\u001b[43m,\u001b[49m\u001b[43m \u001b[49m\u001b[43mgrad_tensors\u001b[49m\u001b[43m,\u001b[49m\u001b[43m \u001b[49m\u001b[43mretain_graph\u001b[49m\u001b[43m,\u001b[49m\u001b[43m \u001b[49m\u001b[43mcreate_graph\u001b[49m\u001b[43m,\u001b[49m\n\u001b[1;32m    127\u001b[0m \u001b[43m    \u001b[49m\u001b[43mallow_unreachable\u001b[49m\u001b[38;5;241;43m=\u001b[39;49m\u001b[38;5;28;43;01mTrue\u001b[39;49;00m\u001b[43m)\u001b[49m\n",
      "\u001b[0;31mRuntimeError\u001b[0m: CUDA out of memory. Tried to allocate 740.00 MiB (GPU 0; 31.75 GiB total capacity; 3.32 GiB already allocated; 564.25 MiB free; 3.97 GiB reserved in total by PyTorch)\nException raised from malloc at /pytorch/c10/cuda/CUDACachingAllocator.cpp:272 (most recent call first):\nframe #0: c10::Error::Error(c10::SourceLocation, std::string) + 0x42 (0x7f2aa09c61e2 in /home/singh_shruti/.local/lib/python3.8/site-packages/torch/lib/libc10.so)\nframe #1: <unknown function> + 0x1e64b (0x7f2aa0c1c64b in /home/singh_shruti/.local/lib/python3.8/site-packages/torch/lib/libc10_cuda.so)\nframe #2: <unknown function> + 0x1f464 (0x7f2aa0c1d464 in /home/singh_shruti/.local/lib/python3.8/site-packages/torch/lib/libc10_cuda.so)\nframe #3: <unknown function> + 0x1faa1 (0x7f2aa0c1daa1 in /home/singh_shruti/.local/lib/python3.8/site-packages/torch/lib/libc10_cuda.so)\nframe #4: at::native::empty_cuda(c10::ArrayRef<long>, c10::TensorOptions const&, c10::optional<c10::MemoryFormat>) + 0x11e (0x7f2a4bd3890e in /home/singh_shruti/.local/lib/python3.8/site-packages/torch/lib/libtorch_cuda.so)\nframe #5: <unknown function> + 0xf33949 (0x7f2a4a172949 in /home/singh_shruti/.local/lib/python3.8/site-packages/torch/lib/libtorch_cuda.so)\nframe #6: <unknown function> + 0xf4d777 (0x7f2a4a18c777 in /home/singh_shruti/.local/lib/python3.8/site-packages/torch/lib/libtorch_cuda.so)\nframe #7: <unknown function> + 0x10e9c7d (0x7f2a84f28c7d in /home/singh_shruti/.local/lib/python3.8/site-packages/torch/lib/libtorch_cpu.so)\nframe #8: <unknown function> + 0x10e9f97 (0x7f2a84f28f97 in /home/singh_shruti/.local/lib/python3.8/site-packages/torch/lib/libtorch_cpu.so)\nframe #9: at::empty(c10::ArrayRef<long>, c10::TensorOptions const&, c10::optional<c10::MemoryFormat>) + 0xfa (0x7f2a85033a1a in /home/singh_shruti/.local/lib/python3.8/site-packages/torch/lib/libtorch_cpu.so)\nframe #10: at::native::empty_like(at::Tensor const&, c10::TensorOptions const&, c10::optional<c10::MemoryFormat>) + 0x49e (0x7f2a84cb1c3e in /home/singh_shruti/.local/lib/python3.8/site-packages/torch/lib/libtorch_cpu.so)\nframe #11: <unknown function> + 0x12880c1 (0x7f2a850c70c1 in /home/singh_shruti/.local/lib/python3.8/site-packages/torch/lib/libtorch_cpu.so)\nframe #12: <unknown function> + 0x12c3863 (0x7f2a85102863 in /home/singh_shruti/.local/lib/python3.8/site-packages/torch/lib/libtorch_cpu.so)\nframe #13: at::empty_like(at::Tensor const&, c10::TensorOptions const&, c10::optional<c10::MemoryFormat>) + 0x101 (0x7f2a85016b31 in /home/singh_shruti/.local/lib/python3.8/site-packages/torch/lib/libtorch_cpu.so)\nframe #14: at::native::zeros_like(at::Tensor const&, c10::TensorOptions const&, c10::optional<c10::MemoryFormat>) + 0x46 (0x7f2a84cab6f6 in /home/singh_shruti/.local/lib/python3.8/site-packages/torch/lib/libtorch_cpu.so)\nframe #15: <unknown function> + 0x128b434 (0x7f2a850ca434 in /home/singh_shruti/.local/lib/python3.8/site-packages/torch/lib/libtorch_cpu.so)\nframe #16: <unknown function> + 0x12c3863 (0x7f2a85102863 in /home/singh_shruti/.local/lib/python3.8/site-packages/torch/lib/libtorch_cpu.so)\nframe #17: at::zeros_like(at::Tensor const&, c10::TensorOptions const&, c10::optional<c10::MemoryFormat>) + 0x101 (0x7f2a85016dd1 in /home/singh_shruti/.local/lib/python3.8/site-packages/torch/lib/libtorch_cpu.so)\nframe #18: at::native::max_pool2d_with_indices_backward_cuda(at::Tensor const&, at::Tensor const&, c10::ArrayRef<long>, c10::ArrayRef<long>, c10::ArrayRef<long>, c10::ArrayRef<long>, bool, at::Tensor const&) + 0x63 (0x7f2a4b0c5983 in /home/singh_shruti/.local/lib/python3.8/site-packages/torch/lib/libtorch_cuda.so)\nframe #19: <unknown function> + 0xf2e801 (0x7f2a4a16d801 in /home/singh_shruti/.local/lib/python3.8/site-packages/torch/lib/libtorch_cuda.so)\nframe #20: <unknown function> + 0xf4fd9f (0x7f2a4a18ed9f in /home/singh_shruti/.local/lib/python3.8/site-packages/torch/lib/libtorch_cuda.so)\nframe #21: at::max_pool2d_with_indices_backward(at::Tensor const&, at::Tensor const&, c10::ArrayRef<long>, c10::ArrayRef<long>, c10::ArrayRef<long>, c10::ArrayRef<long>, bool, at::Tensor const&) + 0x1ac (0x7f2a85025a2c in /home/singh_shruti/.local/lib/python3.8/site-packages/torch/lib/libtorch_cpu.so)\nframe #22: <unknown function> + 0x2ecf64d (0x7f2a86d0e64d in /home/singh_shruti/.local/lib/python3.8/site-packages/torch/lib/libtorch_cpu.so)\nframe #23: <unknown function> + 0x111485f (0x7f2a84f5385f in /home/singh_shruti/.local/lib/python3.8/site-packages/torch/lib/libtorch_cpu.so)\nframe #24: at::max_pool2d_with_indices_backward(at::Tensor const&, at::Tensor const&, c10::ArrayRef<long>, c10::ArrayRef<long>, c10::ArrayRef<long>, c10::ArrayRef<long>, bool, at::Tensor const&) + 0x1ac (0x7f2a85025a2c in /home/singh_shruti/.local/lib/python3.8/site-packages/torch/lib/libtorch_cpu.so)\nframe #25: torch::autograd::generated::MaxPool2DWithIndicesBackward::apply(std::vector<at::Tensor, std::allocator<at::Tensor> >&&) + 0x248 (0x7f2a86b852f8 in /home/singh_shruti/.local/lib/python3.8/site-packages/torch/lib/libtorch_cpu.so)\nframe #26: <unknown function> + 0x3375bb7 (0x7f2a871b4bb7 in /home/singh_shruti/.local/lib/python3.8/site-packages/torch/lib/libtorch_cpu.so)\nframe #27: torch::autograd::Engine::evaluate_function(std::shared_ptr<torch::autograd::GraphTask>&, torch::autograd::Node*, torch::autograd::InputBuffer&, std::shared_ptr<torch::autograd::ReadyQueue> const&) + 0x1400 (0x7f2a871b0400 in /home/singh_shruti/.local/lib/python3.8/site-packages/torch/lib/libtorch_cpu.so)\nframe #28: torch::autograd::Engine::thread_main(std::shared_ptr<torch::autograd::GraphTask> const&) + 0x451 (0x7f2a871b0fa1 in /home/singh_shruti/.local/lib/python3.8/site-packages/torch/lib/libtorch_cpu.so)\nframe #29: torch::autograd::Engine::thread_init(int, std::shared_ptr<torch::autograd::ReadyQueue> const&, bool) + 0x89 (0x7f2a871a9119 in /home/singh_shruti/.local/lib/python3.8/site-packages/torch/lib/libtorch_cpu.so)\nframe #30: torch::autograd::python::PythonEngine::thread_init(int, std::shared_ptr<torch::autograd::ReadyQueue> const&, bool) + 0x4a (0x7f2aa177386a in /home/singh_shruti/.local/lib/python3.8/site-packages/torch/lib/libtorch_python.so)\nframe #31: <unknown function> + 0xc9039 (0x7f2ab440b039 in /home/singh_shruti/anaconda3/envs/compneuro/bin/../lib/libstdc++.so.6)\nframe #32: <unknown function> + 0x8609 (0x7f2ab72c5609 in /lib/x86_64-linux-gnu/libpthread.so.0)\nframe #33: clone + 0x43 (0x7f2ab71ea163 in /lib/x86_64-linux-gnu/libc.so.6)\n"
     ]
    }
   ],
   "source": [
    "counter = []\n",
    "loss_history = [] \n",
    "iteration_number= 0\n",
    "batch_size = 1000\n",
    "\n",
    "# Iterate throught the epochs\n",
    "for epoch in range(1):\n",
    "\n",
    "    # Iterate over batches\n",
    "    for i in range(0, len(pos_neg_pairs), batch_size):\n",
    "        img_trip = pos_neg_pairs[i:i+batch_size]\n",
    "        img0  = []\n",
    "        img1  = []\n",
    "        label = []\n",
    "        for batch_instance in img_trip:\n",
    "            img0.append(np.array(batch_instance[0]))\n",
    "            img1.append(np.array(batch_instance[1]))\n",
    "            label.append(np.array(batch_instance[2]))\n",
    "        \n",
    "        img0 = np.array(img0)\n",
    "        img1 = np.array(img1)\n",
    "        label = np.array(label)\n",
    "        \n",
    "        img0 = np.reshape(img0, (batch_size, 1, 64, 64))\n",
    "        img1 = np.reshape(img1, (batch_size, 1, 64, 64))\n",
    "        label = np.reshape(label, (batch_size, 1))\n",
    "        \n",
    "        img0 = torch.Tensor(img0)\n",
    "        img1 = torch.Tensor(img1)\n",
    "        label = torch.Tensor(label)\n",
    "\n",
    "        # Send the images and labels to CUDA\n",
    "        img0, img1, label = img0.cuda(), img1.cuda(), label.cuda()\n",
    "\n",
    "        # Zero the gradients\n",
    "        optimizer.zero_grad()\n",
    "\n",
    "        # Pass in the two images into the network and obtain two outputs\n",
    "        output1, output2 = net(img0, img1)\n",
    "\n",
    "        # Pass the outputs of the networks and label into the loss function\n",
    "        loss_contrastive = criterion(output1, output2, label)\n",
    "\n",
    "        # Calculate the backpropagation\n",
    "        loss_contrastive.backward()\n",
    "\n",
    "        # Optimize\n",
    "        optimizer.step()\n",
    "\n",
    "        # Every 10 batches print out the loss\n",
    "        if i % 10 == 0 :\n",
    "            print(f\"Epoch number {epoch} Step number {i} \\n Current loss {loss_contrastive.item()}\\n\")\n",
    "            iteration_number += 10\n",
    "\n",
    "            counter.append(iteration_number)\n",
    "            loss_history.append(loss_contrastive.item())"
   ]
  },
  {
   "cell_type": "code",
   "execution_count": 25,
   "metadata": {},
   "outputs": [
    {
     "data": {
      "image/png": "[encoded data removed]",
      "text/plain": [
       "<Figure size 640x480 with 1 Axes>"
      ]
     },
     "metadata": {},
     "output_type": "display_data"
    }
   ],
   "source": [
    "show_plot(counter, loss_history)"
   ]
  },
  {
   "cell_type": "code",
   "execution_count": 26,
   "metadata": {},
   "outputs": [
    {
     "data": {
      "text/plain": [
       "__main__.SiameseNetwork"
      ]
     },
     "execution_count": 26,
     "metadata": {},
     "output_type": "execute_result"
    }
   ],
   "source": [
    "type(net)"
   ]
  },
  {
   "cell_type": "code",
   "execution_count": 43,
   "metadata": {},
   "outputs": [
    {
     "data": {
      "text/plain": [
       "(615, 64, 2560)"
      ]
     },
     "execution_count": 43,
     "metadata": {},
     "output_type": "execute_result"
    }
   ],
   "source": [
    "X_train, y_train_medid, y_train_subjid, y_train_ts, X_val, y_val_medid, y_val_subjid, y_val_ts, \\\n",
    "X_test, y_test_medid, y_test_subjid, y_test_ts = load_dataset(user_split=True)\n",
    "X_test.shape"
   ]
  },
  {
   "cell_type": "code",
   "execution_count": 45,
   "metadata": {},
   "outputs": [
    {
     "data": {
      "text/plain": [
       "(615, 64, 64)"
      ]
     },
     "execution_count": 45,
     "metadata": {},
     "output_type": "execute_result"
    }
   ],
   "source": [
    "X_test = X_test.transpose().reshape(X_test.shape[0], 64, 40, 64).mean(axis=2)\n",
    "X_test.shape"
   ]
  },
  {
   "cell_type": "code",
   "execution_count": 47,
   "metadata": {},
   "outputs": [
    {
     "data": {
      "text/plain": [
       "torch.Size([615, 4096])"
      ]
     },
     "execution_count": 47,
     "metadata": {},
     "output_type": "execute_result"
    }
   ],
   "source": [
    "test_ops = net.forward_once(torch.Tensor(X_test.reshape(X_test.shape[0], 1, 64, 64)).cuda())\n",
    "print(test_ops.shape)"
   ]
  },
  {
   "cell_type": "code",
   "execution_count": 48,
   "metadata": {},
   "outputs": [
    {
     "name": "stdout",
     "output_type": "stream",
     "text": [
      "Xtrain collated shape:  (2688, 64, 64)\n",
      "y_train collated shape:  (4114,)\n"
     ]
    },
    {
     "ename": "RuntimeError",
     "evalue": "CUDA out of memory. Tried to allocate 1.94 GiB (GPU 0; 31.75 GiB total capacity; 1.40 GiB already allocated; 1.69 GiB free; 2.83 GiB reserved in total by PyTorch)",
     "output_type": "error",
     "traceback": [
      "\u001b[0;31m---------------------------------------------------------------------------\u001b[0m",
      "\u001b[0;31mRuntimeError\u001b[0m                              Traceback (most recent call last)",
      "Input \u001b[0;32mIn [48]\u001b[0m, in \u001b[0;36m<cell line: 14>\u001b[0;34m()\u001b[0m\n\u001b[1;32m     12\u001b[0m \u001b[38;5;28mprint\u001b[39m(\u001b[38;5;124m\"\u001b[39m\u001b[38;5;124mXtrain collated shape: \u001b[39m\u001b[38;5;124m\"\u001b[39m, X_train\u001b[38;5;241m.\u001b[39mshape)\n\u001b[1;32m     13\u001b[0m \u001b[38;5;28mprint\u001b[39m(\u001b[38;5;124m\"\u001b[39m\u001b[38;5;124my_train collated shape: \u001b[39m\u001b[38;5;124m\"\u001b[39m, y_train\u001b[38;5;241m.\u001b[39mshape)\n\u001b[0;32m---> 14\u001b[0m train_ops \u001b[38;5;241m=\u001b[39m \u001b[43mnet\u001b[49m\u001b[38;5;241;43m.\u001b[39;49m\u001b[43mforward_once\u001b[49m\u001b[43m(\u001b[49m\u001b[43mtorch\u001b[49m\u001b[38;5;241;43m.\u001b[39;49m\u001b[43mTensor\u001b[49m\u001b[43m(\u001b[49m\u001b[43mX_train\u001b[49m\u001b[38;5;241;43m.\u001b[39;49m\u001b[43mreshape\u001b[49m\u001b[43m(\u001b[49m\u001b[43mX_train\u001b[49m\u001b[38;5;241;43m.\u001b[39;49m\u001b[43mshape\u001b[49m\u001b[43m[\u001b[49m\u001b[38;5;241;43m0\u001b[39;49m\u001b[43m]\u001b[49m\u001b[43m,\u001b[49m\u001b[43m \u001b[49m\u001b[38;5;241;43m1\u001b[39;49m\u001b[43m,\u001b[49m\u001b[43m \u001b[49m\u001b[38;5;241;43m64\u001b[39;49m\u001b[43m,\u001b[49m\u001b[43m \u001b[49m\u001b[38;5;241;43m64\u001b[39;49m\u001b[43m)\u001b[49m\u001b[43m)\u001b[49m\u001b[38;5;241;43m.\u001b[39;49m\u001b[43mcuda\u001b[49m\u001b[43m(\u001b[49m\u001b[43m)\u001b[49m\u001b[43m)\u001b[49m\n\u001b[1;32m     15\u001b[0m \u001b[38;5;28mprint\u001b[39m(\u001b[38;5;124m\"\u001b[39m\u001b[38;5;124mX_train embeddings shape: \u001b[39m\u001b[38;5;124m\"\u001b[39m, train_ops\u001b[38;5;241m.\u001b[39mshape)\n",
      "Input \u001b[0;32mIn [19]\u001b[0m, in \u001b[0;36mSiameseNetwork.forward_once\u001b[0;34m(self, x)\u001b[0m\n\u001b[1;32m     23\u001b[0m \u001b[38;5;28;01mdef\u001b[39;00m \u001b[38;5;21mforward_once\u001b[39m(\u001b[38;5;28mself\u001b[39m, x):\n\u001b[1;32m     24\u001b[0m     \u001b[38;5;66;03m# This function will be called for both images\u001b[39;00m\n\u001b[1;32m     25\u001b[0m     \u001b[38;5;66;03m# It's output is used to determine the similiarity\u001b[39;00m\n\u001b[0;32m---> 26\u001b[0m     output \u001b[38;5;241m=\u001b[39m \u001b[38;5;28;43mself\u001b[39;49m\u001b[38;5;241;43m.\u001b[39;49m\u001b[43mconv\u001b[49m\u001b[43m(\u001b[49m\u001b[43mx\u001b[49m\u001b[43m)\u001b[49m\n\u001b[1;32m     27\u001b[0m     output \u001b[38;5;241m=\u001b[39m output\u001b[38;5;241m.\u001b[39mview(output\u001b[38;5;241m.\u001b[39msize()[\u001b[38;5;241m0\u001b[39m], \u001b[38;5;241m-\u001b[39m\u001b[38;5;241m1\u001b[39m)\n\u001b[1;32m     28\u001b[0m     output \u001b[38;5;241m=\u001b[39m \u001b[38;5;28mself\u001b[39m\u001b[38;5;241m.\u001b[39mliner(output)\n",
      "File \u001b[0;32m~/.local/lib/python3.8/site-packages/torch/nn/modules/module.py:722\u001b[0m, in \u001b[0;36mModule._call_impl\u001b[0;34m(self, *input, **kwargs)\u001b[0m\n\u001b[1;32m    720\u001b[0m     result \u001b[38;5;241m=\u001b[39m \u001b[38;5;28mself\u001b[39m\u001b[38;5;241m.\u001b[39m_slow_forward(\u001b[38;5;241m*\u001b[39m\u001b[38;5;28minput\u001b[39m, \u001b[38;5;241m*\u001b[39m\u001b[38;5;241m*\u001b[39mkwargs)\n\u001b[1;32m    721\u001b[0m \u001b[38;5;28;01melse\u001b[39;00m:\n\u001b[0;32m--> 722\u001b[0m     result \u001b[38;5;241m=\u001b[39m \u001b[38;5;28;43mself\u001b[39;49m\u001b[38;5;241;43m.\u001b[39;49m\u001b[43mforward\u001b[49m\u001b[43m(\u001b[49m\u001b[38;5;241;43m*\u001b[39;49m\u001b[38;5;28;43minput\u001b[39;49m\u001b[43m,\u001b[49m\u001b[43m \u001b[49m\u001b[38;5;241;43m*\u001b[39;49m\u001b[38;5;241;43m*\u001b[39;49m\u001b[43mkwargs\u001b[49m\u001b[43m)\u001b[49m\n\u001b[1;32m    723\u001b[0m \u001b[38;5;28;01mfor\u001b[39;00m hook \u001b[38;5;129;01min\u001b[39;00m itertools\u001b[38;5;241m.\u001b[39mchain(\n\u001b[1;32m    724\u001b[0m         _global_forward_hooks\u001b[38;5;241m.\u001b[39mvalues(),\n\u001b[1;32m    725\u001b[0m         \u001b[38;5;28mself\u001b[39m\u001b[38;5;241m.\u001b[39m_forward_hooks\u001b[38;5;241m.\u001b[39mvalues()):\n\u001b[1;32m    726\u001b[0m     hook_result \u001b[38;5;241m=\u001b[39m hook(\u001b[38;5;28mself\u001b[39m, \u001b[38;5;28minput\u001b[39m, result)\n",
      "File \u001b[0;32m~/.local/lib/python3.8/site-packages/torch/nn/modules/container.py:117\u001b[0m, in \u001b[0;36mSequential.forward\u001b[0;34m(self, input)\u001b[0m\n\u001b[1;32m    115\u001b[0m \u001b[38;5;28;01mdef\u001b[39;00m \u001b[38;5;21mforward\u001b[39m(\u001b[38;5;28mself\u001b[39m, \u001b[38;5;28minput\u001b[39m):\n\u001b[1;32m    116\u001b[0m     \u001b[38;5;28;01mfor\u001b[39;00m module \u001b[38;5;129;01min\u001b[39;00m \u001b[38;5;28mself\u001b[39m:\n\u001b[0;32m--> 117\u001b[0m         \u001b[38;5;28minput\u001b[39m \u001b[38;5;241m=\u001b[39m \u001b[43mmodule\u001b[49m\u001b[43m(\u001b[49m\u001b[38;5;28;43minput\u001b[39;49m\u001b[43m)\u001b[49m\n\u001b[1;32m    118\u001b[0m     \u001b[38;5;28;01mreturn\u001b[39;00m \u001b[38;5;28minput\u001b[39m\n",
      "File \u001b[0;32m~/.local/lib/python3.8/site-packages/torch/nn/modules/module.py:722\u001b[0m, in \u001b[0;36mModule._call_impl\u001b[0;34m(self, *input, **kwargs)\u001b[0m\n\u001b[1;32m    720\u001b[0m     result \u001b[38;5;241m=\u001b[39m \u001b[38;5;28mself\u001b[39m\u001b[38;5;241m.\u001b[39m_slow_forward(\u001b[38;5;241m*\u001b[39m\u001b[38;5;28minput\u001b[39m, \u001b[38;5;241m*\u001b[39m\u001b[38;5;241m*\u001b[39mkwargs)\n\u001b[1;32m    721\u001b[0m \u001b[38;5;28;01melse\u001b[39;00m:\n\u001b[0;32m--> 722\u001b[0m     result \u001b[38;5;241m=\u001b[39m \u001b[38;5;28;43mself\u001b[39;49m\u001b[38;5;241;43m.\u001b[39;49m\u001b[43mforward\u001b[49m\u001b[43m(\u001b[49m\u001b[38;5;241;43m*\u001b[39;49m\u001b[38;5;28;43minput\u001b[39;49m\u001b[43m,\u001b[49m\u001b[43m \u001b[49m\u001b[38;5;241;43m*\u001b[39;49m\u001b[38;5;241;43m*\u001b[39;49m\u001b[43mkwargs\u001b[49m\u001b[43m)\u001b[49m\n\u001b[1;32m    723\u001b[0m \u001b[38;5;28;01mfor\u001b[39;00m hook \u001b[38;5;129;01min\u001b[39;00m itertools\u001b[38;5;241m.\u001b[39mchain(\n\u001b[1;32m    724\u001b[0m         _global_forward_hooks\u001b[38;5;241m.\u001b[39mvalues(),\n\u001b[1;32m    725\u001b[0m         \u001b[38;5;28mself\u001b[39m\u001b[38;5;241m.\u001b[39m_forward_hooks\u001b[38;5;241m.\u001b[39mvalues()):\n\u001b[1;32m    726\u001b[0m     hook_result \u001b[38;5;241m=\u001b[39m hook(\u001b[38;5;28mself\u001b[39m, \u001b[38;5;28minput\u001b[39m, result)\n",
      "File \u001b[0;32m~/.local/lib/python3.8/site-packages/torch/nn/modules/conv.py:419\u001b[0m, in \u001b[0;36mConv2d.forward\u001b[0;34m(self, input)\u001b[0m\n\u001b[1;32m    418\u001b[0m \u001b[38;5;28;01mdef\u001b[39;00m \u001b[38;5;21mforward\u001b[39m(\u001b[38;5;28mself\u001b[39m, \u001b[38;5;28minput\u001b[39m: Tensor) \u001b[38;5;241m-\u001b[39m\u001b[38;5;241m>\u001b[39m Tensor:\n\u001b[0;32m--> 419\u001b[0m     \u001b[38;5;28;01mreturn\u001b[39;00m \u001b[38;5;28;43mself\u001b[39;49m\u001b[38;5;241;43m.\u001b[39;49m\u001b[43m_conv_forward\u001b[49m\u001b[43m(\u001b[49m\u001b[38;5;28;43minput\u001b[39;49m\u001b[43m,\u001b[49m\u001b[43m \u001b[49m\u001b[38;5;28;43mself\u001b[39;49m\u001b[38;5;241;43m.\u001b[39;49m\u001b[43mweight\u001b[49m\u001b[43m)\u001b[49m\n",
      "File \u001b[0;32m~/.local/lib/python3.8/site-packages/torch/nn/modules/conv.py:415\u001b[0m, in \u001b[0;36mConv2d._conv_forward\u001b[0;34m(self, input, weight)\u001b[0m\n\u001b[1;32m    411\u001b[0m \u001b[38;5;28;01mif\u001b[39;00m \u001b[38;5;28mself\u001b[39m\u001b[38;5;241m.\u001b[39mpadding_mode \u001b[38;5;241m!=\u001b[39m \u001b[38;5;124m'\u001b[39m\u001b[38;5;124mzeros\u001b[39m\u001b[38;5;124m'\u001b[39m:\n\u001b[1;32m    412\u001b[0m     \u001b[38;5;28;01mreturn\u001b[39;00m F\u001b[38;5;241m.\u001b[39mconv2d(F\u001b[38;5;241m.\u001b[39mpad(\u001b[38;5;28minput\u001b[39m, \u001b[38;5;28mself\u001b[39m\u001b[38;5;241m.\u001b[39m_reversed_padding_repeated_twice, mode\u001b[38;5;241m=\u001b[39m\u001b[38;5;28mself\u001b[39m\u001b[38;5;241m.\u001b[39mpadding_mode),\n\u001b[1;32m    413\u001b[0m                     weight, \u001b[38;5;28mself\u001b[39m\u001b[38;5;241m.\u001b[39mbias, \u001b[38;5;28mself\u001b[39m\u001b[38;5;241m.\u001b[39mstride,\n\u001b[1;32m    414\u001b[0m                     _pair(\u001b[38;5;241m0\u001b[39m), \u001b[38;5;28mself\u001b[39m\u001b[38;5;241m.\u001b[39mdilation, \u001b[38;5;28mself\u001b[39m\u001b[38;5;241m.\u001b[39mgroups)\n\u001b[0;32m--> 415\u001b[0m \u001b[38;5;28;01mreturn\u001b[39;00m \u001b[43mF\u001b[49m\u001b[38;5;241;43m.\u001b[39;49m\u001b[43mconv2d\u001b[49m\u001b[43m(\u001b[49m\u001b[38;5;28;43minput\u001b[39;49m\u001b[43m,\u001b[49m\u001b[43m \u001b[49m\u001b[43mweight\u001b[49m\u001b[43m,\u001b[49m\u001b[43m \u001b[49m\u001b[38;5;28;43mself\u001b[39;49m\u001b[38;5;241;43m.\u001b[39;49m\u001b[43mbias\u001b[49m\u001b[43m,\u001b[49m\u001b[43m \u001b[49m\u001b[38;5;28;43mself\u001b[39;49m\u001b[38;5;241;43m.\u001b[39;49m\u001b[43mstride\u001b[49m\u001b[43m,\u001b[49m\n\u001b[1;32m    416\u001b[0m \u001b[43m                \u001b[49m\u001b[38;5;28;43mself\u001b[39;49m\u001b[38;5;241;43m.\u001b[39;49m\u001b[43mpadding\u001b[49m\u001b[43m,\u001b[49m\u001b[43m \u001b[49m\u001b[38;5;28;43mself\u001b[39;49m\u001b[38;5;241;43m.\u001b[39;49m\u001b[43mdilation\u001b[49m\u001b[43m,\u001b[49m\u001b[43m \u001b[49m\u001b[38;5;28;43mself\u001b[39;49m\u001b[38;5;241;43m.\u001b[39;49m\u001b[43mgroups\u001b[49m\u001b[43m)\u001b[49m\n",
      "\u001b[0;31mRuntimeError\u001b[0m: CUDA out of memory. Tried to allocate 1.94 GiB (GPU 0; 31.75 GiB total capacity; 1.40 GiB already allocated; 1.69 GiB free; 2.83 GiB reserved in total by PyTorch)"
     ]
    }
   ],
   "source": [
    "# Repeat above for the train set as well\n",
    "\n",
    "y_train = y_train_medid\n",
    "y_val = y_val_medid\n",
    "y_train = np.concatenate((y_train_medid, y_val_medid), axis=0)\n",
    "\n",
    "shape0 = X_train.shape[0]\n",
    "X_train = X_train.transpose().reshape(shape0, 64, 40, 64).mean(axis=2)\n",
    "shape0 = X_val.shape[0]\n",
    "X_val = X_val.transpose().reshape(shape0, 64, 40, 64).mean(axis=2)\n",
    "X_train = np.concatenate((X_train, X_val), axis=0)\n",
    "print(\"Xtrain collated shape: \", X_train.shape)\n",
    "print(\"y_train collated shape: \", y_train.shape)\n",
    "train_ops = net.forward_once(torch.Tensor(X_train.reshape(X_train.shape[0], 1, 64, 64)).cuda())\n",
    "print(\"X_train embeddings shape: \", train_ops.shape)"
   ]
  },
  {
   "cell_type": "code",
   "execution_count": null,
   "metadata": {},
   "outputs": [],
   "source": []
  },
  {
   "cell_type": "markdown",
   "metadata": {},
   "source": [
    "### Plot the tSNE "
   ]
  },
  {
   "cell_type": "code",
   "execution_count": 42,
   "metadata": {},
   "outputs": [],
   "source": [
    "import matplotlib.pyplot as plt\n",
    "from sklearn.manifold import TSNE\n",
    "from collections import Counter\n",
    "from mpl_toolkits.mplot3d import Axes3D\n",
    "import seaborn as sns\n",
    "import pandas as pd\n",
    "import time\n",
    "import pickle\n",
    "import glob"
   ]
  },
  {
   "cell_type": "code",
   "execution_count": null,
   "metadata": {},
   "outputs": [],
   "source": [
    "# def tsne_compute(dataset_name, model_name, tneigh='titles', perplexity=50):\n",
    "X_emb_df = pd.DataFrame(columns=list(range(0, 768)), dtype=float)\n",
    "y_df = pd.DataFrame(columns=[\"target\"])\n",
    "\n",
    "specter_vecs_titles = pickle.load(open('datasets/{}/emb/{}/emb_{}.pkl'.format(dataset_name, model_name, tneigh), 'rb'))\n",
    "count = 0\n",
    "for pid in specter_vecs_titles:\n",
    "    if pid!='name':\n",
    "        if model_name == 'specter':\n",
    "            X_emb_df.loc[pid+\"_T\"] = list(specter_vecs_titles[pid].reshape(768,))\n",
    "        else:\n",
    "            X_emb_df.loc[pid+\"_T\"] = list(specter_vecs_titles[pid].reshape(768,))\n",
    "        y_df.loc[pid+\"_T\"] = tneigh\n",
    "        count += 1\n",
    "#         if count > 50:\n",
    "#             break\n",
    "\n",
    "\n",
    "specter_vecs_titles = pickle.load(open('datasets/{}/emb/{}/emb_tabs.pkl'.format(dataset_name, model_name), 'rb'))\n",
    "count = 0\n",
    "for pid in specter_vecs_titles:\n",
    "    if pid!='name':\n",
    "        if model_name == 'specter':\n",
    "            X_emb_df.loc[pid+\"_TA\"] = list(specter_vecs_titles[pid].reshape(768,))\n",
    "        else:\n",
    "            X_emb_df.loc[pid+\"_TA\"] = list(specter_vecs_titles[pid].reshape(768,))\n",
    "        y_df.loc[pid+\"_TA\"] = 'Title+Abs'\n",
    "        count += 1\n",
    "#         if count > 50:\n",
    "#             break\n",
    "\n",
    "X_emb_df[\"Embedding\"] = y_df\n",
    "\n",
    "df_res = X_emb_df.copy()\n",
    "feat_columns = list(range(0, 768))\n",
    "data_for_tsne = df_res[feat_columns].values\n",
    "\n",
    "print(\"Starting t-SNE now!\")\n",
    "time_start = time.time()\n",
    "tsne = TSNE(n_components=2, verbose=0, perplexity=perplexity)#, n_iter=251)\n",
    "tsne_results = tsne.fit_transform(data_for_tsne)\n",
    "print('t-SNE done! Time elapsed: {} seconds'.format(time.time()-time_start))\n",
    "\n",
    "df_res['tsne-2d-one'] = tsne_results[:,0]\n",
    "df_res['tsne-2d-two'] = tsne_results[:,1]\n",
    "#return df_res\n",
    "\n",
    "fig, axs = plt.subplots(1, 1, sharey=True,dpi=200)\n",
    "sns.scatterplot(x=\"tsne-2d-one\", y=\"tsne-2d-two\", hue=\"Embedding\", palette = sns.color_palette(\"bright\", 2),\n",
    "                data=df_res,legend=\"full\", s=3)\n",
    "plt.xticks([])\n",
    "plt.yticks([])\n",
    "plt.savefig(\"figures/tsne.png\".format(dataset_name, model_name, tneigh), bbox_inches='tight', pad_inches=0.05)"
   ]
  },
  {
   "cell_type": "code",
   "execution_count": null,
   "metadata": {},
   "outputs": [],
   "source": [
    "df_res = tsne_compute()"
   ]
  },
  {
   "cell_type": "code",
   "execution_count": null,
   "metadata": {},
   "outputs": [],
   "source": []
  },
  {
   "cell_type": "code",
   "execution_count": null,
   "metadata": {},
   "outputs": [],
   "source": []
  },
  {
   "cell_type": "code",
   "execution_count": null,
   "metadata": {},
   "outputs": [],
   "source": []
  },
  {
   "cell_type": "code",
   "execution_count": null,
   "metadata": {},
   "outputs": [],
   "source": []
  },
  {
   "cell_type": "code",
   "execution_count": null,
   "metadata": {},
   "outputs": [],
   "source": [
    "# Locate the test dataset and load it into the SiameseNetworkDataset\n",
    "folder_dataset_test = datasets.ImageFolder(root=\"./data/faces/testing/\")\n",
    "siamese_dataset = SiameseNetworkDataset(imageFolderDataset=folder_dataset_test,\n",
    "                                        transform=transformation)\n",
    "test_dataloader = DataLoader(siamese_dataset, num_workers=2, batch_size=1, shuffle=True)\n",
    "\n",
    "# Grab one image that we are going to test\n",
    "dataiter = iter(test_dataloader)\n",
    "x0, _, _ = next(dataiter)\n",
    "\n",
    "for i in range(10):\n",
    "    # Iterate over 10 images and test them with the first image (x0)\n",
    "    _, x1, label2 = next(dataiter)\n",
    "\n",
    "    # Concatenate the two images together\n",
    "    concatenated = torch.cat((x0, x1), 0)\n",
    "    \n",
    "    output1, output2 = net(x0.cuda(), x1.cuda())\n",
    "    euclidean_distance = F.pairwise_distance(output1, output2)\n",
    "    imshow(torchvision.utils.make_grid(concatenated), f'Dissimilarity: {euclidean_distance.item():.2f}')"
   ]
  },
  {
   "cell_type": "code",
   "execution_count": null,
   "metadata": {},
   "outputs": [],
   "source": []
  },
  {
   "cell_type": "markdown",
   "metadata": {},
   "source": [
    "## Other code snippets"
   ]
  },
  {
   "cell_type": "code",
   "execution_count": null,
   "metadata": {},
   "outputs": [],
   "source": [
    "# #create the Siamese Neural Network\n",
    "# class SiameseNetwork(nn.Module):\n",
    "\n",
    "#     def __init__(self, input_size, output_size):\n",
    "#         super(SiameseNetwork, self).__init__()\n",
    "\n",
    "#         self.model = CustomResNet(input_size, output_size).get_model()\n",
    "        \n",
    "#     def forward_once(self, x):\n",
    "#         # This function will be called for both images\n",
    "#         # It's output is used to determine the similiarity\n",
    "#         output = self.model(x)\n",
    "#         return output\n",
    "\n",
    "#     def forward(self, input1, input2):\n",
    "#         # In this function we pass in both images and obtain both vectors\n",
    "#         # which are returned\n",
    "#         output1 = self.forward_once(input1)\n",
    "#         output2 = self.forward_once(input2)\n",
    "\n",
    "#         return output1, output2\n",
    "    \n",
    "#     def get_model(self):\n",
    "#         return self.model"
   ]
  },
  {
   "cell_type": "code",
   "execution_count": null,
   "metadata": {},
   "outputs": [],
   "source": [
    "# #create the Siamese Neural Network\n",
    "# class SiameseNetwork(nn.Module):\n",
    "\n",
    "#     def __init__(self):\n",
    "#         super(SiameseNetwork, self).__init__()\n",
    "\n",
    "#         # Setting up the Sequential of CNN Layers\n",
    "#         self.cnn1 = nn.Sequential(\n",
    "#             nn.Conv2d(1, 96, kernel_size=11,stride=4),\n",
    "#             nn.ReLU(inplace=True),\n",
    "#             nn.MaxPool2d(3, stride=2),\n",
    "            \n",
    "#             nn.Conv2d(96, 256, kernel_size=5, stride=1),\n",
    "#             nn.ReLU(inplace=True),\n",
    "#             nn.MaxPool2d(2, stride=2),\n",
    "\n",
    "#             nn.Conv2d(256, 384, kernel_size=3,stride=1),\n",
    "#             nn.ReLU(inplace=True)\n",
    "#         )\n",
    "\n",
    "#         # Setting up the Fully Connected Layers\n",
    "#         self.fc1 = nn.Sequential(\n",
    "#             nn.Linear(384, 1024),\n",
    "#             nn.ReLU(inplace=True),\n",
    "            \n",
    "#             nn.Linear(1024, 256),\n",
    "#             nn.ReLU(inplace=True),\n",
    "            \n",
    "#             nn.Linear(256,2)\n",
    "#         )\n",
    "        \n",
    "#     def forward_once(self, x):\n",
    "#         # This function will be called for both images\n",
    "#         # It's output is used to determine the similiarity\n",
    "#         output = self.cnn1(x)\n",
    "#         output = output.view(output.size()[0], -1)\n",
    "#         output = self.fc1(output)\n",
    "#         return output\n",
    "\n",
    "#     def forward(self, input1, input2):\n",
    "#         # In this function we pass in both images and obtain both vectors\n",
    "#         # which are returned\n",
    "#         output1 = self.forward_once(input1)\n",
    "#         output2 = self.forward_once(input2)\n",
    "\n",
    "#         return output1, output2"
   ]
  },
  {
   "cell_type": "code",
   "execution_count": null,
   "metadata": {},
   "outputs": [],
   "source": [
    "# class SiameseNetworkDataset(Dataset):\n",
    "#     def __init__(self,imageFolderDataset,transform=None):\n",
    "#         self.imageFolderDataset = imageFolderDataset    \n",
    "#         self.transform = transform\n",
    "        \n",
    "#     def __getitem__(self,index):\n",
    "#         img0_tuple = random.choice(self.imageFolderDataset.imgs)\n",
    "\n",
    "#         #We need to approximately 50% of images to be in the same class\n",
    "#         should_get_same_class = random.randint(0,1) \n",
    "#         if should_get_same_class:\n",
    "#             while True:\n",
    "#                 #Look untill the same class image is found\n",
    "#                 img1_tuple = random.choice(self.imageFolderDataset.imgs) \n",
    "#                 if img0_tuple[1] == img1_tuple[1]:\n",
    "#                     break\n",
    "#         else:\n",
    "\n",
    "#             while True:\n",
    "#                 #Look untill a different class image is found\n",
    "#                 img1_tuple = random.choice(self.imageFolderDataset.imgs) \n",
    "#                 if img0_tuple[1] != img1_tuple[1]:\n",
    "#                     break\n",
    "\n",
    "#         img0 = Image.open(img0_tuple[0])\n",
    "#         img1 = Image.open(img1_tuple[0])\n",
    "\n",
    "#         img0 = img0.convert(\"L\")\n",
    "#         img1 = img1.convert(\"L\")\n",
    "\n",
    "#         if self.transform is not None:\n",
    "#             img0 = self.transform(img0)\n",
    "#             img1 = self.transform(img1)\n",
    "        \n",
    "#         return img0, img1, torch.from_numpy(np.array([int(img1_tuple[1] != img0_tuple[1])], dtype=np.float32))\n",
    "    \n",
    "#     def __len__(self):\n",
    "#         return len(self.imageFolderDataset.imgs)"
   ]
  },
  {
   "cell_type": "code",
   "execution_count": null,
   "metadata": {},
   "outputs": [],
   "source": []
  }
 ],
 "metadata": {
  "kernelspec": {
   "display_name": "compneuro",
   "language": "python",
   "name": "compneuro"
  },
  "language_info": {
   "codemirror_mode": {
    "name": "ipython",
    "version": 3
   },
   "file_extension": ".py",
   "mimetype": "text/x-python",
   "name": "python",
   "nbconvert_exporter": "python",
   "pygments_lexer": "ipython3",
   "version": "3.8.0"
  }
 },
 "nbformat": 4,
 "nbformat_minor": 4
}
