{
 "cells": [
  {
   "cell_type": "code",
   "execution_count": 3,
   "metadata": {},
   "outputs": [],
   "source": [
    "import torch\n",
    "import torchvision\n",
    "import torch.nn as nn\n",
    "import torch.nn.functional as F\n",
    "\n",
    "import torchvision.models as models\n",
    "import torchvision.transforms as transforms\n",
    "\n",
    "# PyTorch TensorBoard support\n",
    "from torch.utils.tensorboard import SummaryWriter\n",
    "from torch.utils.data import random_split\n",
    "\n",
    "from collections import namedtuple, defaultdict\n",
    "from datetime import datetime\n",
    "from sklearn.metrics import confusion_matrix\n",
    "\n",
    "import glob\n",
    "import matplotlib.pyplot as plt\n",
    "import numpy as np\n",
    "import os\n",
    "import pickle\n",
    "import random\n",
    "import seaborn as sns"
   ]
  },
  {
   "cell_type": "code",
   "execution_count": 2,
   "metadata": {},
   "outputs": [],
   "source": []
  },
  {
   "cell_type": "code",
   "execution_count": 4,
   "metadata": {},
   "outputs": [],
   "source": [
    "def load_dataset(user_split = True):\n",
    "    X_train = None\n",
    "    y_train_medid = None\n",
    "    y_train_subjid = None\n",
    "    y_train_ts = None\n",
    "    \n",
    "    X_val = None\n",
    "    y_val_medid = None\n",
    "    y_val_subjid = None\n",
    "    y_val_ts = None\n",
    "    \n",
    "    X_test = None\n",
    "    y_test_medid = None\n",
    "    y_test_subjid = None\n",
    "    y_test_ts = None\n",
    "\n",
    "    # user_split: Determines the creation of train/val/test set. In user_split, test/val users are never seen during the train. time_split randomly splits each user's chunks into train/val/test.\n",
    "    if user_split:\n",
    "        data_file_path = './data/Meditation/user_based_splits_with_timestamp.pkl'\n",
    "    else:\n",
    "        data_file_path = './data/Meditation/time_based_splits_with_timestamp.pkl'\n",
    "\n",
    "    with open(data_file_path, 'rb') as f:\n",
    "        all_data_splits = pickle.load(f)\n",
    "\n",
    "        X_train = all_data_splits['train']['x']\n",
    "        y_train_medid = all_data_splits['train']['y_med']\n",
    "        y_train_subjid = all_data_splits['train']['y_subj']\n",
    "        y_train_ts = all_data_splits['train']['y_ts']\n",
    "\n",
    "        X_val = all_data_splits['val']['x']\n",
    "        y_val_medid = all_data_splits['val']['y_med']\n",
    "        y_val_subjid = all_data_splits['val']['y_subj']\n",
    "        y_val_ts = all_data_splits['val']['y_ts']\n",
    "\n",
    "        X_test = all_data_splits['test']['x']\n",
    "        y_test_medid = all_data_splits['test']['y_med']\n",
    "        y_test_subjid = all_data_splits['test']['y_subj']\n",
    "        y_test_ts = all_data_splits['test']['y_ts']\n",
    "\n",
    "    return X_train, y_train_medid, y_train_subjid, y_train_ts, X_val, y_val_medid, y_val_subjid, y_val_ts, X_test, y_test_medid, y_test_subjid, y_test_ts"
   ]
  },
  {
   "cell_type": "code",
   "execution_count": 6,
   "metadata": {},
   "outputs": [],
   "source": [
    "user_split = True\n",
    "X_train, y_train_medid, y_train_subjid, y_train_ts, X_val, y_val_medid, y_val_subjid, y_val_ts, \\\n",
    "X_test, y_test_medid, y_test_subjid, y_test_ts = load_dataset(user_split)"
   ]
  },
  {
   "cell_type": "code",
   "execution_count": null,
   "metadata": {},
   "outputs": [],
   "source": []
  },
  {
   "cell_type": "code",
   "execution_count": 7,
   "metadata": {},
   "outputs": [
    {
     "data": {
      "text/plain": [
       "(64, 2560)"
      ]
     },
     "execution_count": 7,
     "metadata": {},
     "output_type": "execute_result"
    }
   ],
   "source": [
    "X_train[0,:,:].shape"
   ]
  },
  {
   "cell_type": "code",
   "execution_count": 24,
   "metadata": {},
   "outputs": [
    {
     "data": {
      "text/plain": [
       "(40, 64, 64)"
      ]
     },
     "execution_count": 24,
     "metadata": {},
     "output_type": "execute_result"
    }
   ],
   "source": [
    "X_train[0,:,:].transpose().reshape(40, 64, 64).shape"
   ]
  },
  {
   "cell_type": "code",
   "execution_count": 27,
   "metadata": {},
   "outputs": [
    {
     "data": {
      "text/plain": [
       "(64, 64)"
      ]
     },
     "execution_count": 27,
     "metadata": {},
     "output_type": "execute_result"
    }
   ],
   "source": [
    "X_train[0,:,:].transpose().reshape(64, 40, 64).mean(axis=1).shape"
   ]
  },
  {
   "cell_type": "code",
   "execution_count": 33,
   "metadata": {},
   "outputs": [
    {
     "data": {
      "text/plain": [
       "4.3389654"
      ]
     },
     "execution_count": 33,
     "metadata": {},
     "output_type": "execute_result"
    }
   ],
   "source": [
    "X_train[0,:,:].transpose().reshape(64, 40, 64).mean(axis=1)[0,0]"
   ]
  },
  {
   "cell_type": "code",
   "execution_count": 31,
   "metadata": {},
   "outputs": [
    {
     "data": {
      "text/plain": [
       "4.3389654"
      ]
     },
     "execution_count": 31,
     "metadata": {},
     "output_type": "execute_result"
    }
   ],
   "source": [
    "np.mean(X_train[0,:,:].transpose().reshape(64, 40, 64)[0,:,0])"
   ]
  },
  {
   "cell_type": "code",
   "execution_count": null,
   "metadata": {},
   "outputs": [],
   "source": [
    "X_train_list = []\n",
    "X_val_list = []\n",
    "X_test_list = []\n",
    "\n",
    "for i in range(X_train.shape[0]):\n",
    "    X_train_list.append(np.mean(X_train[i,:,:], axis=1))\n",
    "X_train_list = np.array(X_train_list)\n",
    "print(X_train.shape, X_train_list.shape)\n",
    "\n",
    "for i in range(X_val.shape[0]):\n",
    "    X_val_list.append(np.mean(X_val[i,:,:], axis=1))\n",
    "X_val_list = np.array(X_val_list)\n",
    "print(X_val.shape, X_val_list.shape)\n",
    "\n",
    "for i in range(X_test.shape[0]):\n",
    "    X_test_list.append(np.mean(X_test[i,:,:], axis=1))\n",
    "X_test_list = np.array(X_test_list)\n",
    "print(X_test.shape, X_test_list.shape)"
   ]
  }
 ],
 "metadata": {
  "kernelspec": {
   "display_name": "compneuro",
   "language": "python",
   "name": "compneuro"
  },
  "language_info": {
   "codemirror_mode": {
    "name": "ipython",
    "version": 3
   },
   "file_extension": ".py",
   "mimetype": "text/x-python",
   "name": "python",
   "nbconvert_exporter": "python",
   "pygments_lexer": "ipython3",
   "version": "3.8.0"
  }
 },
 "nbformat": 4,
 "nbformat_minor": 4
}
